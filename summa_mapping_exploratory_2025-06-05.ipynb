{
 "cells": [
  {
   "cell_type": "code",
   "execution_count": 4,
   "id": "bb592895-b4a8-4330-8cd9-2cd610cbec1b",
   "metadata": {},
   "outputs": [],
   "source": [
    "import pandas as pd\n",
    "\n",
    "UPTIME_FILEPATH = \"C:\\\\Users\\\\FelipePlatzer\\\\Documents\\\\Manifold self-pay\\\\PartsSource\\\\Development\\\\Uptime data ingestion\\\\summa\\\\standardization_temp\\\\unique_combo_uptime.csv\"\n",
    "MEL_FILEPATH = \"C:\\\\Users\\\\FelipePlatzer\\\\Documents\\\\Manifold self-pay\\\\PartsSource\\\\Development\\\\Uptime data ingestion\\\\global\\\\Polaris MEL export 2025.04.11 _ temp.csv\"\n",
    "RAW_CUSTOMER_FILEPATH = \"C:\\\\Users\\\\FelipePlatzer\\\\Documents\\\\Manifold self-pay\\\\PartsSource\\\\Development\\\\Uptime data ingestion\\\\summa\\\\bronze_summa_assets.csv\"\n",
    "AUXO_FILEPATH = \"C:\\\\Users\\\\FelipePlatzer\\\\Documents\\\\Manifold self-pay\\\\PartsSource\\\\Development\\\\Uptime data ingestion\\\\global\\\\auxo.csv\"\n",
    "STANDARDIZED_MAKE_FILEPATH = \"C:\\\\Users\\\\FelipePlatzer\\\\Documents\\\\Manifold self-pay\\\\PartsSource\\\\Development\\\\Uptime data ingestion\\\\summa\\\\summa_asset_make_matches.csv\"\n",
    "SEMARCHY_FILEPATH = \"C:\\\\Users\\\\FelipePlatzer\\\\Documents\\\\Manifold self-pay\\\\PartsSource\\\\Development\\\\Uptime data ingestion\\\\semarchy_export_2025-06-06.csv\"\n",
    "#TARGET_FILE = 'auxo' #toggle between 'auxo','mel', and 'uptime'\n",
    "\n",
    "#uptime_df = pd.read_csv(UPTIME_FILEPATH)\n",
    "#mel_df = pd.read_csv(MEL_FILEPATH)\n",
    "#auxo_df = pd.read_csv(AUXO_FILEPATH)\n",
    "raw_df = pd.read_csv(RAW_CUSTOMER_FILEPATH)\n",
    "semarchy_df = pd.read_csv(SEMARCHY_FILEPATH, encoding ='utf-8')"
   ]
  },
  {
   "cell_type": "code",
   "execution_count": 5,
   "id": "3b793e44-6647-4503-b554-d5daa6d49824",
   "metadata": {},
   "outputs": [],
   "source": [
    "modality_in_scope_list = [\n",
    "'Rad/Fluoro Systems, Angio / Interventional',\n",
    "'Rad/Fluoro Systems, Mobile',\n",
    "'Radiographic Units, Mobile',\n",
    "'Scanning Systems, Computed Tomography',\n",
    "'Scanning Systems, Gamma Camera, SPECT',\n",
    "'Scanning Systems, Magnetic Resonance Imaging',\n",
    "'Sterilizing Units, Germicidal Liquid',\n",
    "'Sterilizing Units, Germicidal Vapor',\n",
    "'Sterilizing Units, Steam',\n",
    "'Sterilizing Units, Steam, Tabletop']\n",
    "\n",
    "raw_fields = ['modality','model_name','make']\n",
    "\n",
    "semarchy_fields = [\n",
    "    'GOLDEN_MODEL_ID',\n",
    "    'GOLDEN_MODEL_NAME',\n",
    "    'GOLDEN_MANUFACTURER_NAME',\n",
    "    'ORIG_MODEL_ID',\n",
    "    'ORIG_MODEL_NAME',\n",
    "    'ORIG_MANUFACTURER_NAME',\n",
    "    'GOLDEN_TAXONOMY_L2',\n",
    "    'ORIG_TAXONOMY_L2'\n",
    "]\n",
    "\n",
    "semarchy_modalities = [\n",
    "    'Cath Lab / Angio',\n",
    "    'CT',\n",
    "    'MRI',\n",
    "    'Mobile C-arm'\n",
    "]"
   ]
  },
  {
   "cell_type": "code",
   "execution_count": 6,
   "id": "768fae7b-835e-432b-9958-cfdcadce13cc",
   "metadata": {},
   "outputs": [],
   "source": [
    "x = raw_df[raw_df['modality'].isin(modality_in_scope_list)]\n"
   ]
  },
  {
   "cell_type": "code",
   "execution_count": 7,
   "id": "e03c3cf6-091b-4e6f-8b91-dfd12e0c01a6",
   "metadata": {},
   "outputs": [],
   "source": [
    "x = x[raw_fields].drop_duplicates()\n",
    "x.to_csv('./raw_modalities_in_scope.csv')"
   ]
  },
  {
   "cell_type": "code",
   "execution_count": 9,
   "id": "c01a5d0d-8069-4aa7-b8a0-0b9c450492bb",
   "metadata": {},
   "outputs": [],
   "source": [
    "semarchy_df = semarchy_df[semarchy_fields]\n",
    "semarchy_df = semarchy_df[semarchy_df['GOLDEN_TAXONOMY_L2'].isin(semarchy_modalities)]\n",
    "semarchy_df = semarchy_df.drop_duplicates()\n",
    "\n",
    "semarchy_df.to_csv('./semarchy_clean.csv')"
   ]
  },
  {
   "cell_type": "code",
   "execution_count": null,
   "id": "431e3190-33d4-4bca-9946-8ad2354859f6",
   "metadata": {},
   "outputs": [],
   "source": []
  }
 ],
 "metadata": {
  "kernelspec": {
   "display_name": "Python 3 (ipykernel)",
   "language": "python",
   "name": "python3"
  },
  "language_info": {
   "codemirror_mode": {
    "name": "ipython",
    "version": 3
   },
   "file_extension": ".py",
   "mimetype": "text/x-python",
   "name": "python",
   "nbconvert_exporter": "python",
   "pygments_lexer": "ipython3",
   "version": "3.12.7"
  }
 },
 "nbformat": 4,
 "nbformat_minor": 5
}
